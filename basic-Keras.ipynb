{
 "cells": [
  {
   "cell_type": "code",
   "execution_count": 7,
   "metadata": {},
   "outputs": [],
   "source": [
    "import tensorflow as tf\n",
    "from tensorflow import keras\n",
    "\n",
    "def printAllWeights(model):\n",
    "    for layer in model.layers:\n",
    "        print(layer.get_weights())"
   ]
  },
  {
   "cell_type": "code",
   "execution_count": 8,
   "metadata": {},
   "outputs": [],
   "source": [
    "input2dList = [[1,1,1],[1,1,0],[0,0,0],[0,0,1]]\n",
    "outputTrainList = [[1],[1],[0],[0]]\n",
    "\n",
    "test2dList = [[1,1,1],[1,0,1],[0,0,0]]\n",
    "inputSize = len(input2dList[0])\n"
   ]
  },
  {
   "cell_type": "code",
   "execution_count": 9,
   "metadata": {
    "scrolled": true
   },
   "outputs": [
    {
     "name": "stdout",
     "output_type": "stream",
     "text": [
      "Model: \"sequential_2\"\n",
      "_________________________________________________________________\n",
      "Layer (type)                 Output Shape              Param #   \n",
      "=================================================================\n",
      "dense_4 (Dense)              (None, 3)                 12        \n",
      "_________________________________________________________________\n",
      "dense_5 (Dense)              (None, 1)                 4         \n",
      "=================================================================\n",
      "Total params: 16\n",
      "Trainable params: 16\n",
      "Non-trainable params: 0\n",
      "_________________________________________________________________\n",
      "None\n",
      "Weights before training\n",
      "[array([[0.1, 0.1, 0.1],\n",
      "       [0.1, 0.1, 0.1],\n",
      "       [0.1, 0.1, 0.1]], dtype=float32), array([0., 0., 0.], dtype=float32)]\n",
      "[array([[0.5],\n",
      "       [0.5],\n",
      "       [0.5]], dtype=float32), array([0.], dtype=float32)]\n",
      "training started\n",
      "Epoch 1/20\n",
      "4/4 [==============================] - 0s 10ms/sample - loss: 0.2212 - acc: 0.7500\n",
      "Epoch 2/20\n",
      "4/4 [==============================] - 0s 868us/sample - loss: 0.2139 - acc: 0.7500\n",
      "Epoch 3/20\n",
      "4/4 [==============================] - 0s 888us/sample - loss: 0.2087 - acc: 0.7500\n",
      "Epoch 4/20\n",
      "4/4 [==============================] - 0s 777us/sample - loss: 0.2014 - acc: 0.7500\n",
      "Epoch 5/20\n",
      "4/4 [==============================] - 0s 808us/sample - loss: 0.1941 - acc: 0.7500\n",
      "Epoch 6/20\n",
      "4/4 [==============================] - 0s 976us/sample - loss: 0.1874 - acc: 0.7500\n",
      "Epoch 7/20\n",
      "4/4 [==============================] - 0s 819us/sample - loss: 0.1811 - acc: 0.7500\n",
      "Epoch 8/20\n",
      "4/4 [==============================] - 0s 764us/sample - loss: 0.1742 - acc: 1.0000\n",
      "Epoch 9/20\n",
      "4/4 [==============================] - 0s 1ms/sample - loss: 0.1666 - acc: 1.0000\n",
      "Epoch 10/20\n",
      "4/4 [==============================] - 0s 800us/sample - loss: 0.1610 - acc: 1.0000\n",
      "Epoch 11/20\n",
      "4/4 [==============================] - 0s 775us/sample - loss: 0.1543 - acc: 1.0000\n",
      "Epoch 12/20\n",
      "4/4 [==============================] - 0s 814us/sample - loss: 0.1477 - acc: 1.0000\n",
      "Epoch 13/20\n",
      "4/4 [==============================] - 0s 985us/sample - loss: 0.1416 - acc: 1.0000\n",
      "Epoch 14/20\n",
      "4/4 [==============================] - 0s 791us/sample - loss: 0.1354 - acc: 1.0000\n",
      "Epoch 15/20\n",
      "4/4 [==============================] - 0s 840us/sample - loss: 0.1294 - acc: 1.0000\n",
      "Epoch 16/20\n",
      "4/4 [==============================] - 0s 1ms/sample - loss: 0.1236 - acc: 1.0000\n",
      "Epoch 17/20\n",
      "4/4 [==============================] - 0s 834us/sample - loss: 0.1183 - acc: 1.0000\n",
      "Epoch 18/20\n",
      "4/4 [==============================] - 0s 856us/sample - loss: 0.1141 - acc: 1.0000\n",
      "Epoch 19/20\n",
      "4/4 [==============================] - 0s 946us/sample - loss: 0.1089 - acc: 1.0000\n",
      "Epoch 20/20\n",
      "4/4 [==============================] - 0s 925us/sample - loss: 0.1053 - acc: 1.0000\n",
      "Weights after training\n",
      "[array([[ 0.40694696,  0.40694696,  0.40694696],\n",
      "       [ 0.40694696,  0.40694696,  0.40694696],\n",
      "       [-0.00839275, -0.00839275, -0.00839275]], dtype=float32), array([-0.00375825, -0.00375825, -0.00375825], dtype=float32)]\n",
      "[array([[0.7324627],\n",
      "       [0.7324627],\n",
      "       [0.7324627]], dtype=float32), array([-0.4032866], dtype=float32)]\n",
      "pred started\n",
      "[[0.7955083 ]\n",
      " [0.61401796]\n",
      " [0.40052295]]\n"
     ]
    }
   ],
   "source": [
    "\n",
    "# define the keras model\n",
    "model = keras.Sequential()\n",
    "model.add(keras.layers.Dense(inputSize, input_shape=(inputSize,), activation='relu', kernel_initializer=keras.initializers.Constant(value=0.1)))\n",
    "model.add(keras.layers.Dense(1, activation='sigmoid', kernel_initializer=keras.initializers.Constant(value=0.5)))\n",
    "\n",
    "print(model.summary())\n",
    "print(\"Weights before training\")\n",
    "printAllWeights(model)\n",
    "\n",
    "model.compile(loss='mean_squared_error', optimizer=keras.optimizers.SGD(lr=0.1), metrics=['accuracy'])\n",
    "print(\"training started\")\n",
    "# needs at least 20 epochs at learning rate 0.1\n",
    "model.fit([input2dList], [outputTrainList], epochs=20, batch_size=1, verbose=1)\n",
    "\n",
    "print(\"Weights after training\")\n",
    "printAllWeights(model)\n",
    "\n",
    "print(\"pred started\")\n",
    "predictions = model.predict_proba([test2dList])\n",
    "# start the session\n",
    "print(predictions)\n"
   ]
  },
  {
   "cell_type": "code",
   "execution_count": 93,
   "metadata": {},
   "outputs": [
    {
     "name": "stdout",
     "output_type": "stream",
     "text": [
      "[[0.965963]]\n"
     ]
    }
   ],
   "source": []
  },
  {
   "cell_type": "code",
   "execution_count": null,
   "metadata": {},
   "outputs": [],
   "source": []
  }
 ],
 "metadata": {
  "kernelspec": {
   "display_name": "Python 3",
   "language": "python",
   "name": "python3"
  },
  "language_info": {
   "codemirror_mode": {
    "name": "ipython",
    "version": 3
   },
   "file_extension": ".py",
   "mimetype": "text/x-python",
   "name": "python",
   "nbconvert_exporter": "python",
   "pygments_lexer": "ipython3",
   "version": "3.7.4"
  }
 },
 "nbformat": 4,
 "nbformat_minor": 2
}
