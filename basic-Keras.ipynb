{
 "cells": [
  {
   "cell_type": "code",
   "execution_count": 1,
   "metadata": {},
   "outputs": [],
   "source": [
    "import tensorflow as tf\n",
    "from tensorflow import keras\n",
    "\n",
    "def printAllWeights(model):\n",
    "    for layer in model.layers:\n",
    "        print(layer.get_weights())"
   ]
  },
  {
   "cell_type": "code",
   "execution_count": 8,
   "metadata": {},
   "outputs": [],
   "source": [
    "input2dList = [[1,1,1],[1,1,0],[0,0,0],[0,0,1]]\n",
    "outputTrainList = [[1],[1],[0],[0]]\n",
    "\n",
    "test2dList = [[1,1,1],[1,0,1],[0,0,0],[0,0,0]]\n",
    "inputSize = len(input2dList[0])\n"
   ]
  },
  {
   "cell_type": "code",
   "execution_count": 9,
   "metadata": {
    "scrolled": true
   },
   "outputs": [
    {
     "name": "stdout",
     "output_type": "stream",
     "text": [
      "Model: \"sequential_5\"\n",
      "_________________________________________________________________\n",
      " Layer (type)                Output Shape              Param #   \n",
      "=================================================================\n",
      " dense_10 (Dense)            (None, 4, 3)              12        \n",
      "                                                                 \n",
      " dense_11 (Dense)            (None, 4, 1)              4         \n",
      "                                                                 \n",
      "=================================================================\n",
      "Total params: 16\n",
      "Trainable params: 16\n",
      "Non-trainable params: 0\n",
      "_________________________________________________________________\n",
      "None\n",
      "Weights before training\n",
      "[array([[0.1, 0.1, 0.1],\n",
      "       [0.1, 0.1, 0.1],\n",
      "       [0.1, 0.1, 0.1]], dtype=float32), array([0., 0., 0.], dtype=float32)]\n",
      "[array([[0.5],\n",
      "       [0.5],\n",
      "       [0.5]], dtype=float32), array([0.], dtype=float32)]\n",
      "training started\n",
      "Epoch 1/20\n",
      "1/1 [==============================] - 0s 145ms/step - loss: 0.2179 - accuracy: 0.7500\n",
      "Epoch 2/20\n",
      "1/1 [==============================] - 0s 5ms/step - loss: 0.2163 - accuracy: 0.7500\n",
      "Epoch 3/20\n",
      "1/1 [==============================] - 0s 5ms/step - loss: 0.2146 - accuracy: 0.7500\n",
      "Epoch 4/20\n",
      "1/1 [==============================] - 0s 6ms/step - loss: 0.2130 - accuracy: 0.7500\n",
      "Epoch 5/20\n",
      "1/1 [==============================] - 0s 6ms/step - loss: 0.2112 - accuracy: 0.7500\n",
      "Epoch 6/20\n",
      "1/1 [==============================] - 0s 6ms/step - loss: 0.2096 - accuracy: 0.7500\n",
      "Epoch 7/20\n",
      "1/1 [==============================] - 0s 5ms/step - loss: 0.2079 - accuracy: 0.7500\n",
      "Epoch 8/20\n",
      "1/1 [==============================] - 0s 6ms/step - loss: 0.2063 - accuracy: 0.7500\n",
      "Epoch 9/20\n",
      "1/1 [==============================] - 0s 5ms/step - loss: 0.2046 - accuracy: 0.7500\n",
      "Epoch 10/20\n",
      "1/1 [==============================] - 0s 5ms/step - loss: 0.2030 - accuracy: 0.7500\n",
      "Epoch 11/20\n",
      "1/1 [==============================] - 0s 5ms/step - loss: 0.2014 - accuracy: 0.7500\n",
      "Epoch 12/20\n",
      "1/1 [==============================] - 0s 5ms/step - loss: 0.1996 - accuracy: 0.7500\n"
     ]
    },
    {
     "name": "stderr",
     "output_type": "stream",
     "text": [
      "2022-03-20 12:25:35.808746: I tensorflow/core/grappler/optimizers/custom_graph_optimizer_registry.cc:113] Plugin optimizer for device_type GPU is enabled.\n"
     ]
    },
    {
     "name": "stdout",
     "output_type": "stream",
     "text": [
      "Epoch 13/20\n",
      "1/1 [==============================] - 0s 5ms/step - loss: 0.1980 - accuracy: 0.7500\n",
      "Epoch 14/20\n",
      "1/1 [==============================] - 0s 5ms/step - loss: 0.1964 - accuracy: 0.7500\n",
      "Epoch 15/20\n",
      "1/1 [==============================] - 0s 5ms/step - loss: 0.1947 - accuracy: 0.7500\n",
      "Epoch 16/20\n",
      "1/1 [==============================] - 0s 6ms/step - loss: 0.1931 - accuracy: 0.7500\n",
      "Epoch 17/20\n",
      "1/1 [==============================] - 0s 5ms/step - loss: 0.1914 - accuracy: 0.7500\n",
      "Epoch 18/20\n",
      "1/1 [==============================] - 0s 6ms/step - loss: 0.1897 - accuracy: 0.7500\n",
      "Epoch 19/20\n",
      "1/1 [==============================] - 0s 6ms/step - loss: 0.1881 - accuracy: 0.7500\n",
      "Epoch 20/20\n",
      "1/1 [==============================] - 0s 5ms/step - loss: 0.1865 - accuracy: 0.7500\n",
      "Weights after training\n",
      "[array([[0.19295382, 0.19295382, 0.19295382],\n",
      "       [0.19295382, 0.19295382, 0.19295382],\n",
      "       [0.0754654 , 0.0754654 , 0.0754654 ]], dtype=float32), array([-0.00083531, -0.00083531, -0.00083531], dtype=float32)]\n",
      "[array([[0.5471076],\n",
      "       [0.5471076],\n",
      "       [0.5471076]], dtype=float32), array([-0.07519578], dtype=float32)]\n",
      "pred started\n"
     ]
    },
    {
     "name": "stderr",
     "output_type": "stream",
     "text": [
      "2022-03-20 12:25:36.166465: I tensorflow/core/grappler/optimizers/custom_graph_optimizer_registry.cc:113] Plugin optimizer for device_type GPU is enabled.\n"
     ]
    },
    {
     "name": "stdout",
     "output_type": "stream",
     "text": [
      "[[[0.6638939 ]\n",
      "  [0.59000736]\n",
      "  [0.48120996]\n",
      "  [0.48120996]]]\n"
     ]
    }
   ],
   "source": [
    "\n",
    "# define the keras model\n",
    "model = keras.Sequential()\n",
    "model.add(keras.layers.Dense(inputSize, input_shape=(4,3), activation='relu', kernel_initializer=keras.initializers.Constant(value=0.1)))\n",
    "model.add(keras.layers.Dense(1, activation='sigmoid', kernel_initializer=keras.initializers.Constant(value=0.5)))\n",
    "\n",
    "print(model.summary())\n",
    "print(\"Weights before training\")\n",
    "printAllWeights(model)\n",
    "\n",
    "model.compile(loss='mean_squared_error', optimizer=keras.optimizers.SGD(lr=0.1), metrics=['accuracy'])\n",
    "print(\"training started\")\n",
    "# needs at least 20 epochs at learning rate 0.1\n",
    "model.fit([input2dList], [outputTrainList], epochs=20, batch_size=1, verbose=1)\n",
    "\n",
    "print(\"Weights after training\")\n",
    "printAllWeights(model)\n",
    "\n",
    "print(\"pred started\")\n",
    "predictions = model.predict([test2dList])\n",
    "# start the session\n",
    "print(predictions)\n"
   ]
  },
  {
   "cell_type": "code",
   "execution_count": null,
   "metadata": {},
   "outputs": [
    {
     "name": "stdout",
     "output_type": "stream",
     "text": [
      "[[0.965963]]\n"
     ]
    }
   ],
   "source": []
  },
  {
   "cell_type": "code",
   "execution_count": null,
   "metadata": {},
   "outputs": [],
   "source": []
  }
 ],
 "metadata": {
  "kernelspec": {
   "display_name": "Python 3",
   "language": "python",
   "name": "python3"
  },
  "language_info": {
   "codemirror_mode": {
    "name": "ipython",
    "version": 3
   },
   "file_extension": ".py",
   "mimetype": "text/x-python",
   "name": "python",
   "nbconvert_exporter": "python",
   "pygments_lexer": "ipython3",
   "version": "3.9.10"
  }
 },
 "nbformat": 4,
 "nbformat_minor": 2
}
