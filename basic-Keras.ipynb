{
 "cells": [
  {
   "cell_type": "code",
   "execution_count": 4,
   "metadata": {},
   "outputs": [],
   "source": [
    "import os\n",
    "import pandas as pd\n",
    "from operator import add\n",
    "from functools import reduce\n",
    "import tensorflow as tf\n",
    "from tensorflow import keras\n",
    "import numpy as np\n",
    "\n",
    "\n",
    "def printAllWeights(model):\n",
    "    for layer in model.layers:\n",
    "        print(layer.get_weights())"
   ]
  },
  {
   "cell_type": "code",
   "execution_count": 5,
   "metadata": {},
   "outputs": [],
   "source": [
    "input2dList = [[1,1,1],[1,1,0],[0,0,0],[0,0,1]]\n",
    "outputTrainList = [[1],[1],[0],[0]]\n",
    "\n",
    "test2dList = [[1,1,1],[1,0,1],[0,0,0]]\n",
    "inputSize = len(input2dList[0])\n"
   ]
  },
  {
   "cell_type": "code",
   "execution_count": 6,
   "metadata": {
    "scrolled": true
   },
   "outputs": [
    {
     "name": "stdout",
     "output_type": "stream",
     "text": [
      "Model: \"sequential_1\"\n",
      "_________________________________________________________________\n",
      "Layer (type)                 Output Shape              Param #   \n",
      "=================================================================\n",
      "dense_2 (Dense)              (None, 3)                 12        \n",
      "_________________________________________________________________\n",
      "dense_3 (Dense)              (None, 1)                 4         \n",
      "=================================================================\n",
      "Total params: 16\n",
      "Trainable params: 16\n",
      "Non-trainable params: 0\n",
      "_________________________________________________________________\n",
      "None\n",
      "Weights before training\n",
      "[array([[0.1, 0.1, 0.1],\n",
      "       [0.1, 0.1, 0.1],\n",
      "       [0.1, 0.1, 0.1]], dtype=float32), array([0., 0., 0.], dtype=float32)]\n",
      "[array([[0.5],\n",
      "       [0.5],\n",
      "       [0.5]], dtype=float32), array([0.], dtype=float32)]\n",
      "training started\n",
      "Epoch 1/20\n",
      "4/4 [==============================] - 0s 11ms/sample - loss: 0.2216 - acc: 0.5000\n",
      "Epoch 2/20\n",
      "4/4 [==============================] - 0s 1ms/sample - loss: 0.2147 - acc: 0.7500\n",
      "Epoch 3/20\n",
      "4/4 [==============================] - 0s 1ms/sample - loss: 0.2076 - acc: 0.7500\n",
      "Epoch 4/20\n",
      "4/4 [==============================] - 0s 1ms/sample - loss: 0.2013 - acc: 0.7500\n",
      "Epoch 5/20\n",
      "4/4 [==============================] - 0s 1ms/sample - loss: 0.1939 - acc: 0.5000\n",
      "Epoch 6/20\n",
      "4/4 [==============================] - 0s 1ms/sample - loss: 0.1876 - acc: 0.7500\n",
      "Epoch 7/20\n",
      "4/4 [==============================] - 0s 1ms/sample - loss: 0.1798 - acc: 0.7500\n",
      "Epoch 8/20\n",
      "4/4 [==============================] - 0s 1ms/sample - loss: 0.1744 - acc: 1.0000\n",
      "Epoch 9/20\n",
      "4/4 [==============================] - 0s 1ms/sample - loss: 0.1674 - acc: 1.0000\n",
      "Epoch 10/20\n",
      "4/4 [==============================] - 0s 937us/sample - loss: 0.1607 - acc: 1.0000\n",
      "Epoch 11/20\n",
      "4/4 [==============================] - 0s 905us/sample - loss: 0.1542 - acc: 1.0000\n",
      "Epoch 12/20\n",
      "4/4 [==============================] - 0s 1ms/sample - loss: 0.1477 - acc: 1.0000\n",
      "Epoch 13/20\n",
      "4/4 [==============================] - 0s 1ms/sample - loss: 0.1413 - acc: 1.0000\n",
      "Epoch 14/20\n",
      "4/4 [==============================] - 0s 1ms/sample - loss: 0.1336 - acc: 1.0000\n",
      "Epoch 15/20\n",
      "4/4 [==============================] - 0s 978us/sample - loss: 0.1288 - acc: 1.0000\n",
      "Epoch 16/20\n",
      "4/4 [==============================] - 0s 1ms/sample - loss: 0.1247 - acc: 1.0000\n",
      "Epoch 17/20\n",
      "4/4 [==============================] - 0s 1ms/sample - loss: 0.1191 - acc: 1.0000\n",
      "Epoch 18/20\n",
      "4/4 [==============================] - 0s 903us/sample - loss: 0.1137 - acc: 1.0000\n",
      "Epoch 19/20\n",
      "4/4 [==============================] - 0s 1ms/sample - loss: 0.1099 - acc: 1.0000\n",
      "Epoch 20/20\n",
      "4/4 [==============================] - 0s 1ms/sample - loss: 0.1049 - acc: 1.0000\n",
      "Weights after training\n",
      "[array([[ 0.40721378,  0.40721378,  0.40721378],\n",
      "       [ 0.40721378,  0.40721378,  0.40721378],\n",
      "       [-0.00875906, -0.00875906, -0.00875906]], dtype=float32), array([-0.01760476, -0.01760476, -0.01760476], dtype=float32)]\n",
      "[array([[0.73279345],\n",
      "       [0.73279345],\n",
      "       [0.73279345]], dtype=float32), array([-0.40266153], dtype=float32)]\n",
      "pred started\n",
      "[[0.7908079 ]\n",
      " [0.60696954]\n",
      " [0.40067306]]\n"
     ]
    }
   ],
   "source": [
    "\n",
    "# define the keras model\n",
    "model = keras.Sequential()\n",
    "model.add(keras.layers.Dense(inputSize, input_shape=(inputSize,), activation='relu', kernel_initializer=keras.initializers.Constant(value=0.1)))\n",
    "model.add(keras.layers.Dense(1, activation='sigmoid', kernel_initializer=keras.initializers.Constant(value=0.5)))\n",
    "\n",
    "print(model.summary())\n",
    "print(\"Weights before training\")\n",
    "printAllWeights(model)\n",
    "\n",
    "model.compile(loss='mean_squared_error', optimizer=keras.optimizers.SGD(lr=0.1), metrics=['accuracy'])\n",
    "print(\"training started\")\n",
    "# needs at least 20 epochs at learning rate 0.1\n",
    "model.fit([input2dList], [outputTrainList], epochs=20, batch_size=1, verbose=1)\n",
    "\n",
    "print(\"Weights after training\")\n",
    "printAllWeights(model)\n",
    "\n",
    "print(\"pred started\")\n",
    "predictions = model.predict_proba([test2dList])\n",
    "# start the session\n",
    "print(predictions)\n"
   ]
  },
  {
   "cell_type": "code",
   "execution_count": 93,
   "metadata": {},
   "outputs": [
    {
     "name": "stdout",
     "output_type": "stream",
     "text": [
      "[[0.965963]]\n"
     ]
    }
   ],
   "source": []
  },
  {
   "cell_type": "code",
   "execution_count": null,
   "metadata": {},
   "outputs": [],
   "source": []
  }
 ],
 "metadata": {
  "kernelspec": {
   "display_name": "Python 3",
   "language": "python",
   "name": "python3"
  },
  "language_info": {
   "codemirror_mode": {
    "name": "ipython",
    "version": 3
   },
   "file_extension": ".py",
   "mimetype": "text/x-python",
   "name": "python",
   "nbconvert_exporter": "python",
   "pygments_lexer": "ipython3",
   "version": "3.7.4"
  }
 },
 "nbformat": 4,
 "nbformat_minor": 2
}
